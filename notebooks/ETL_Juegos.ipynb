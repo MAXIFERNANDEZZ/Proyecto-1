{
 "cells": [
  {
   "cell_type": "code",
   "execution_count": 1,
   "metadata": {},
   "outputs": [],
   "source": [
    "import pandas as pd\n",
    "from pandas import json_normalize\n",
    "import numpy as np\n",
    "import json as js\n",
    "import ast as ast\n",
    "import re"
   ]
  },
  {
   "cell_type": "code",
   "execution_count": 2,
   "metadata": {},
   "outputs": [],
   "source": [
    "#Convertir el archivo 'output_steam_games.json' en dataframe\n",
    "\n",
    "DF_Juegos_steam = pd.read_json('output_steam_games.json', lines=True)"
   ]
  },
  {
   "cell_type": "code",
   "execution_count": 3,
   "metadata": {},
   "outputs": [],
   "source": [
    "def transformar_listas(df, columna):\n",
    "    \"\"\"\n",
    "    Transforma listas a cadenas, dejando nulos como están\n",
    "    \n",
    "    Returns:\n",
    "    pd.DataFrame: El DataFrame con la columna transformada.\n",
    "    \"\"\"\n",
    "    df[columna] = df[columna].apply(lambda x: ', '.join(x) if isinstance(x, list) else x)"
   ]
  },
  {
   "cell_type": "code",
   "execution_count": 4,
   "metadata": {},
   "outputs": [],
   "source": [
    "transformar_listas(DF_Juegos_steam,'publisher')\n",
    "transformar_listas(DF_Juegos_steam,'genres')\n",
    "transformar_listas(DF_Juegos_steam,'app_name')\n",
    "transformar_listas(DF_Juegos_steam,'title')\n",
    "transformar_listas(DF_Juegos_steam,'url')\n",
    "transformar_listas(DF_Juegos_steam,'release_date')\n",
    "transformar_listas(DF_Juegos_steam,'reviews_url')\n",
    "transformar_listas(DF_Juegos_steam,'specs')\n",
    "transformar_listas(DF_Juegos_steam,'price')\n",
    "transformar_listas(DF_Juegos_steam,'early_access')\n",
    "transformar_listas(DF_Juegos_steam,'id')\n",
    "transformar_listas(DF_Juegos_steam,'developer')\n"
   ]
  },
  {
   "cell_type": "code",
   "execution_count": 5,
   "metadata": {},
   "outputs": [],
   "source": [
    "# Reemplazar nulos en app_name con valores de title\n",
    "DF_Juegos_steam['app_name'] = DF_Juegos_steam['app_name'].fillna(DF_Juegos_steam['title'])\n",
    "\n",
    "# Reemplazar nulos en title con valores de app_name\n",
    "DF_Juegos_steam['title'] = DF_Juegos_steam['title'].fillna(DF_Juegos_steam['app_name'])\n",
    "\n",
    "# Reemplazar nulos en tags con valores de genre\n",
    "DF_Juegos_steam['tags'] = DF_Juegos_steam['tags'].fillna(DF_Juegos_steam['genres'])\n",
    "\n",
    "# Reemplazar nulos en genre con valores de tags\n",
    "DF_Juegos_steam['genres'] = DF_Juegos_steam['genres'].fillna(DF_Juegos_steam['tags'])"
   ]
  },
  {
   "cell_type": "code",
   "execution_count": 6,
   "metadata": {},
   "outputs": [],
   "source": [
    "#Eliminamos columnas que no consideremos necesarias\n",
    "\n",
    "DF_Juegos_steam = DF_Juegos_steam.drop(columns='title')\n",
    "#DF_Juegos_steam = DF_Juegos_steam.drop(columns='early_access')\n",
    "DF_Juegos_steam = DF_Juegos_steam.drop(columns='tags')"
   ]
  },
  {
   "cell_type": "code",
   "execution_count": 7,
   "metadata": {},
   "outputs": [
    {
     "name": "stdout",
     "output_type": "stream",
     "text": [
      "               publisher                                             genres  \\\n",
      "88310          Kotoshiro        Action, Casual, Indie, Simulation, Strategy   \n",
      "88311   Making Fun, Inc.                 Free to Play, Indie, RPG, Strategy   \n",
      "88312       Poolians.com    Casual, Free to Play, Indie, Simulation, Sports   \n",
      "88313               彼岸领域                          Action, Adventure, Casual   \n",
      "88314               None                    [Action, Indie, Casual, Sports]   \n",
      "...                  ...                                                ...   \n",
      "120440   Ghost_RUS Games                Casual, Indie, Simulation, Strategy   \n",
      "120441            Sacada                            Casual, Indie, Strategy   \n",
      "120442      Laush Studio                          Indie, Racing, Simulation   \n",
      "120443          SIXNAILS                                      Casual, Indie   \n",
      "120444              None  [Early Access, Adventure, Indie, Action, Simul...   \n",
      "\n",
      "                        app_name  \\\n",
      "88310        Lost Summoner Kitty   \n",
      "88311                  Ironbound   \n",
      "88312    Real Pool 3D - Poolians   \n",
      "88313                    弹炸人2222   \n",
      "88314              Log Challenge   \n",
      "...                          ...   \n",
      "120440            Colony On Mars   \n",
      "120441  LOGistICAL: South Africa   \n",
      "120442             Russian Roads   \n",
      "120443       EXIT 2 - Directions   \n",
      "120444               Maze Run VR   \n",
      "\n",
      "                                                      url release_date  \\\n",
      "88310   http://store.steampowered.com/app/761140/Lost_...   2018-01-04   \n",
      "88311   http://store.steampowered.com/app/643980/Ironb...   2018-01-04   \n",
      "88312   http://store.steampowered.com/app/670290/Real_...   2017-07-24   \n",
      "88313      http://store.steampowered.com/app/767400/2222/   2017-12-07   \n",
      "88314   http://store.steampowered.com/app/773570/Log_C...         None   \n",
      "...                                                   ...          ...   \n",
      "120440  http://store.steampowered.com/app/773640/Colon...   2018-01-04   \n",
      "120441  http://store.steampowered.com/app/733530/LOGis...   2018-01-04   \n",
      "120442  http://store.steampowered.com/app/610660/Russi...   2018-01-04   \n",
      "120443  http://store.steampowered.com/app/658870/EXIT_...   2017-09-02   \n",
      "120444  http://store.steampowered.com/app/681550/Maze_...         None   \n",
      "\n",
      "                                              reviews_url  \\\n",
      "88310   http://steamcommunity.com/app/761140/reviews/?...   \n",
      "88311   http://steamcommunity.com/app/643980/reviews/?...   \n",
      "88312   http://steamcommunity.com/app/670290/reviews/?...   \n",
      "88313   http://steamcommunity.com/app/767400/reviews/?...   \n",
      "88314   http://steamcommunity.com/app/773570/reviews/?...   \n",
      "...                                                   ...   \n",
      "120440  http://steamcommunity.com/app/773640/reviews/?...   \n",
      "120441  http://steamcommunity.com/app/733530/reviews/?...   \n",
      "120442  http://steamcommunity.com/app/610660/reviews/?...   \n",
      "120443  http://steamcommunity.com/app/658870/reviews/?...   \n",
      "120444  http://steamcommunity.com/app/681550/reviews/?...   \n",
      "\n",
      "                                                    specs         price  \\\n",
      "88310                                       Single-player          4.99   \n",
      "88311   Single-player, Multi-player, Online Multi-Play...  Free To Play   \n",
      "88312   Single-player, Multi-player, Online Multi-Play...  Free to Play   \n",
      "88313                                       Single-player          0.99   \n",
      "88314   Single-player, Full controller support, HTC Vi...          2.99   \n",
      "...                                                   ...           ...   \n",
      "120440                  Single-player, Steam Achievements          1.99   \n",
      "120441  Single-player, Steam Achievements, Steam Cloud...          4.99   \n",
      "120442  Single-player, Steam Achievements, Steam Tradi...          1.99   \n",
      "120443     Single-player, Steam Achievements, Steam Cloud          4.99   \n",
      "120444  Single-player, Stats, Steam Leaderboards, HTC ...          4.99   \n",
      "\n",
      "        early_access        id                 developer  \n",
      "88310            0.0  761140.0                 Kotoshiro  \n",
      "88311            0.0  643980.0          Secret Level SRL  \n",
      "88312            0.0  670290.0              Poolians.com  \n",
      "88313            0.0  767400.0                      彼岸领域  \n",
      "88314            0.0  773570.0                      None  \n",
      "...              ...       ...                       ...  \n",
      "120440           0.0  773640.0        Nikita \"Ghost_RUS\"  \n",
      "120441           0.0  733530.0                    Sacada  \n",
      "120442           0.0  610660.0  Laush Dmitriy Sergeevich  \n",
      "120443           0.0  658870.0             xropi,stev3ns  \n",
      "120444           1.0  681550.0                      None  \n",
      "\n",
      "[32135 rows x 11 columns]\n"
     ]
    }
   ],
   "source": [
    "#Eliminamos las filas en donde todos los valores sean nulos\n",
    "DF_Juegos_steam = DF_Juegos_steam.dropna(how='all')\n",
    "print(DF_Juegos_steam)"
   ]
  },
  {
   "cell_type": "code",
   "execution_count": 8,
   "metadata": {},
   "outputs": [
    {
     "name": "stdout",
     "output_type": "stream",
     "text": [
      "Filas donde app_name es nulo:\n",
      "      publisher         genres app_name  \\\n",
      "88384      None           None     None   \n",
      "90890      None  Action, Indie     None   \n",
      "\n",
      "                                               url release_date  \\\n",
      "88384               http://store.steampowered.com/         None   \n",
      "90890  http://store.steampowered.com/app/317160/_/   2014-08-26   \n",
      "\n",
      "                                             reviews_url  \\\n",
      "88384                                               None   \n",
      "90890  http://steamcommunity.com/app/317160/reviews/?...   \n",
      "\n",
      "                          specs  price  early_access        id developer  \n",
      "88384                      None  19.99           0.0       NaN      None  \n",
      "90890  Single-player, Game demo   None           0.0  317160.0      None  \n"
     ]
    }
   ],
   "source": [
    "# Filtrar el DataFrame donde app_name es nulo\n",
    "null_app_name_df = DF_Juegos_steam[DF_Juegos_steam['app_name'].isnull()]\n",
    "\n",
    "print(\"Filas donde app_name es nulo:\")\n",
    "print(null_app_name_df)"
   ]
  },
  {
   "cell_type": "code",
   "execution_count": 9,
   "metadata": {},
   "outputs": [
    {
     "name": "stdout",
     "output_type": "stream",
     "text": [
      "Fila con índice 88384:\n",
      "publisher                                 None\n",
      "genres                                    None\n",
      "app_name                                  None\n",
      "url             http://store.steampowered.com/\n",
      "release_date                              None\n",
      "reviews_url                               None\n",
      "specs                                     None\n",
      "price                                    19.99\n",
      "early_access                               0.0\n",
      "id                                         NaN\n",
      "developer                                 None\n",
      "Name: 88384, dtype: object\n"
     ]
    }
   ],
   "source": [
    "#Buscamos la fila 88384\n",
    "fila_88384 = DF_Juegos_steam.loc[88384]\n",
    "\n",
    "print(\"Fila con índice 88384:\")\n",
    "print(fila_88384)\n",
    "\n"
   ]
  },
  {
   "cell_type": "code",
   "execution_count": 10,
   "metadata": {},
   "outputs": [],
   "source": [
    "# Eliminar la fila con índice 88384\n",
    "DF_Juegos_steam = DF_Juegos_steam.drop(index=88384)"
   ]
  },
  {
   "cell_type": "code",
   "execution_count": 11,
   "metadata": {},
   "outputs": [
    {
     "name": "stdout",
     "output_type": "stream",
     "text": [
      "IDs de los valores duplicados en la columna id:\n",
      "[612880.0]\n"
     ]
    }
   ],
   "source": [
    "# Inicializar un diccionario para contar ocurrencias\n",
    "contador = {}\n",
    "\n",
    "# Contar ocurrencias de cada valor en la columna 'id'\n",
    "for valor in DF_Juegos_steam['id']:\n",
    "    if valor in contador:\n",
    "        contador[valor] += 1\n",
    "    else:\n",
    "        contador[valor] = 1\n",
    "\n",
    "# Obtener los IDs duplicados\n",
    "ids_duplicados = [k for k, v in contador.items() if v > 1]\n",
    "\n",
    "if ids_duplicados:\n",
    "    print('IDs de los valores duplicados en la columna id:')\n",
    "    print(ids_duplicados)\n",
    "else:\n",
    "    print('No hay valores duplicados en la columna id')"
   ]
  },
  {
   "cell_type": "code",
   "execution_count": 12,
   "metadata": {},
   "outputs": [
    {
     "name": "stdout",
     "output_type": "stream",
     "text": [
      "Fila donde el id es 612880:\n",
      "                 publisher  genres                          app_name  \\\n",
      "102204  Bethesda Softworks  Action  Wolfenstein II: The New Colossus   \n",
      "102883  Bethesda Softworks  Action  Wolfenstein II: The New Colossus   \n",
      "\n",
      "                                                      url release_date  \\\n",
      "102204          http://store.steampowered.com/app/612880/   2017-10-26   \n",
      "102883  http://store.steampowered.com/app/612880/Wolfe...   2017-10-26   \n",
      "\n",
      "                                              reviews_url  \\\n",
      "102204  http://steamcommunity.com/app/612880/reviews/?...   \n",
      "102883  http://steamcommunity.com/app/612880/reviews/?...   \n",
      "\n",
      "                                                    specs  price  \\\n",
      "102204  Single-player, Steam Achievements, Full contro...  59.99   \n",
      "102883  Single-player, Steam Achievements, Full contro...  59.99   \n",
      "\n",
      "        early_access        id      developer  \n",
      "102204           0.0  612880.0  Machine Games  \n",
      "102883           0.0  612880.0  Machine Games  \n"
     ]
    }
   ],
   "source": [
    "# Filtrar la fila donde el id sea 612880\n",
    "fila = DF_Juegos_steam[DF_Juegos_steam['id'] == 612880]\n",
    "\n",
    "print(\"Fila donde el id es 612880:\")\n",
    "print(fila)"
   ]
  },
  {
   "cell_type": "code",
   "execution_count": 13,
   "metadata": {},
   "outputs": [
    {
     "name": "stdout",
     "output_type": "stream",
     "text": [
      "               publisher                                             genres  \\\n",
      "88310          Kotoshiro        Action, Casual, Indie, Simulation, Strategy   \n",
      "88311   Making Fun, Inc.                 Free to Play, Indie, RPG, Strategy   \n",
      "88312       Poolians.com    Casual, Free to Play, Indie, Simulation, Sports   \n",
      "88313               彼岸领域                          Action, Adventure, Casual   \n",
      "88314               None                    [Action, Indie, Casual, Sports]   \n",
      "...                  ...                                                ...   \n",
      "120440   Ghost_RUS Games                Casual, Indie, Simulation, Strategy   \n",
      "120441            Sacada                            Casual, Indie, Strategy   \n",
      "120442      Laush Studio                          Indie, Racing, Simulation   \n",
      "120443          SIXNAILS                                      Casual, Indie   \n",
      "120444              None  [Early Access, Adventure, Indie, Action, Simul...   \n",
      "\n",
      "                        app_name  \\\n",
      "88310        Lost Summoner Kitty   \n",
      "88311                  Ironbound   \n",
      "88312    Real Pool 3D - Poolians   \n",
      "88313                    弹炸人2222   \n",
      "88314              Log Challenge   \n",
      "...                          ...   \n",
      "120440            Colony On Mars   \n",
      "120441  LOGistICAL: South Africa   \n",
      "120442             Russian Roads   \n",
      "120443       EXIT 2 - Directions   \n",
      "120444               Maze Run VR   \n",
      "\n",
      "                                                      url release_date  \\\n",
      "88310   http://store.steampowered.com/app/761140/Lost_...   2018-01-04   \n",
      "88311   http://store.steampowered.com/app/643980/Ironb...   2018-01-04   \n",
      "88312   http://store.steampowered.com/app/670290/Real_...   2017-07-24   \n",
      "88313      http://store.steampowered.com/app/767400/2222/   2017-12-07   \n",
      "88314   http://store.steampowered.com/app/773570/Log_C...         None   \n",
      "...                                                   ...          ...   \n",
      "120440  http://store.steampowered.com/app/773640/Colon...   2018-01-04   \n",
      "120441  http://store.steampowered.com/app/733530/LOGis...   2018-01-04   \n",
      "120442  http://store.steampowered.com/app/610660/Russi...   2018-01-04   \n",
      "120443  http://store.steampowered.com/app/658870/EXIT_...   2017-09-02   \n",
      "120444  http://store.steampowered.com/app/681550/Maze_...         None   \n",
      "\n",
      "                                              reviews_url  \\\n",
      "88310   http://steamcommunity.com/app/761140/reviews/?...   \n",
      "88311   http://steamcommunity.com/app/643980/reviews/?...   \n",
      "88312   http://steamcommunity.com/app/670290/reviews/?...   \n",
      "88313   http://steamcommunity.com/app/767400/reviews/?...   \n",
      "88314   http://steamcommunity.com/app/773570/reviews/?...   \n",
      "...                                                   ...   \n",
      "120440  http://steamcommunity.com/app/773640/reviews/?...   \n",
      "120441  http://steamcommunity.com/app/733530/reviews/?...   \n",
      "120442  http://steamcommunity.com/app/610660/reviews/?...   \n",
      "120443  http://steamcommunity.com/app/658870/reviews/?...   \n",
      "120444  http://steamcommunity.com/app/681550/reviews/?...   \n",
      "\n",
      "                                                    specs         price  \\\n",
      "88310                                       Single-player          4.99   \n",
      "88311   Single-player, Multi-player, Online Multi-Play...  Free To Play   \n",
      "88312   Single-player, Multi-player, Online Multi-Play...  Free to Play   \n",
      "88313                                       Single-player          0.99   \n",
      "88314   Single-player, Full controller support, HTC Vi...          2.99   \n",
      "...                                                   ...           ...   \n",
      "120440                  Single-player, Steam Achievements          1.99   \n",
      "120441  Single-player, Steam Achievements, Steam Cloud...          4.99   \n",
      "120442  Single-player, Steam Achievements, Steam Tradi...          1.99   \n",
      "120443     Single-player, Steam Achievements, Steam Cloud          4.99   \n",
      "120444  Single-player, Stats, Steam Leaderboards, HTC ...          4.99   \n",
      "\n",
      "        early_access        id                 developer  \n",
      "88310            0.0  761140.0                 Kotoshiro  \n",
      "88311            0.0  643980.0          Secret Level SRL  \n",
      "88312            0.0  670290.0              Poolians.com  \n",
      "88313            0.0  767400.0                      彼岸领域  \n",
      "88314            0.0  773570.0                      None  \n",
      "...              ...       ...                       ...  \n",
      "120440           0.0  773640.0        Nikita \"Ghost_RUS\"  \n",
      "120441           0.0  733530.0                    Sacada  \n",
      "120442           0.0  610660.0  Laush Dmitriy Sergeevich  \n",
      "120443           0.0  658870.0             xropi,stev3ns  \n",
      "120444           1.0  681550.0                      None  \n",
      "\n",
      "[32133 rows x 11 columns]\n"
     ]
    }
   ],
   "source": [
    "# Eliminar una sola fila duplicada (manteniendo la primera)\n",
    "DF_Juegos_steam = DF_Juegos_steam.drop_duplicates(subset='id', keep='first')\n",
    "print(DF_Juegos_steam)"
   ]
  },
  {
   "cell_type": "code",
   "execution_count": 14,
   "metadata": {},
   "outputs": [],
   "source": [
    "#Transforma listas a cadenas, dejando nulos como están\n",
    "DF_Juegos_steam['genres'] = DF_Juegos_steam['genres'].apply(lambda x: ', '.join(x) if isinstance(x, list) else x)\n"
   ]
  },
  {
   "cell_type": "code",
   "execution_count": null,
   "metadata": {},
   "outputs": [],
   "source": [
    "DF_Juegos_steam.reset_index(inplace=True)"
   ]
  },
  {
   "cell_type": "code",
   "execution_count": 16,
   "metadata": {},
   "outputs": [],
   "source": [
    "#Guardamos el DataFrame con el ETL realizado\n",
    "DF_Juegos_steam.to_json('DF_Juegos_steam.json', orient='records', lines=True)"
   ]
  }
 ],
 "metadata": {
  "kernelspec": {
   "display_name": "Python 3",
   "language": "python",
   "name": "python3"
  },
  "language_info": {
   "codemirror_mode": {
    "name": "ipython",
    "version": 3
   },
   "file_extension": ".py",
   "mimetype": "text/x-python",
   "name": "python",
   "nbconvert_exporter": "python",
   "pygments_lexer": "ipython3",
   "version": "3.12.3"
  }
 },
 "nbformat": 4,
 "nbformat_minor": 2
}
