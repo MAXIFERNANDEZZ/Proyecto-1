Por un error mio el archivo fue borrado y no pude recuperarlo, de todas maneras las funciones se pueden encontrar en el main.py
